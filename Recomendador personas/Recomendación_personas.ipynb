{
 "cells": [
  {
   "cell_type": "code",
   "execution_count": 1,
   "metadata": {},
   "outputs": [],
   "source": [
    "import pandas as pd\n",
    "\n",
    "ruta_archivo = r'C:\\Users\\Usuario\\Downloads\\users_4.csv'\n",
    "codificaciones = ['utf-8', 'latin-1', 'ISO-8859-1']\n",
    "\n",
    "\n",
    "for codificacion in codificaciones:\n",
    "    try:\n",
    "        df = pd.read_csv(ruta_archivo, encoding=codificacion, sep = ',')\n",
    "        break\n",
    "    except Exception:\n",
    "        pass\n",
    "\n"
   ]
  },
  {
   "cell_type": "code",
   "execution_count": 2,
   "metadata": {},
   "outputs": [],
   "source": [
    "\n",
    "\n",
    "\n",
    "\n",
    "interests = [\n",
    "\"Calidad\",\n",
    "\"Data Science\",\n",
    "\"Desarrollo Personal\",\n",
    "\"Desarrollo Profesional\",\n",
    "\"Digital Business\",\n",
    "\"Dirección empresarial\",\n",
    "\"Diseño Gráfico\",\n",
    "\"Eficiencia energética\",\n",
    "\"Empredimiento\",\n",
    "\"Finanzas\",\n",
    "\"Gestión de Equipos\",\n",
    "\"Innovación\",\n",
    "\"Inversiones\",\n",
    "\"Marca Empresa\",\n",
    "\"Marketing\",\n",
    "\"Networking\",\n",
    "\"Recursos Humanos\",\n",
    "\"Tecnología\"]\n",
    "\n",
    "\n",
    "\n",
    "\n"
   ]
  },
  {
   "attachments": {},
   "cell_type": "markdown",
   "metadata": {},
   "source": [
    "# UNA VEZ TENEMOS EL DATASET SINTÉTICO, VAMOS A PROCEDER CON EL MODELO DE RECOMENDACION"
   ]
  },
  {
   "cell_type": "code",
   "execution_count": 3,
   "metadata": {},
   "outputs": [],
   "source": [
    "import ast\n",
    "\n",
    "df['interestId'] = df['interestId'].apply(ast.literal_eval)\n"
   ]
  },
  {
   "cell_type": "code",
   "execution_count": 4,
   "metadata": {},
   "outputs": [],
   "source": [
    "import pandas as pd\n",
    "\n",
    "\n",
    "\n",
    "def match_user(user, common_limit=3):\n",
    "    global df\n",
    "    user_interests = df.loc[df['username'] == user, 'interestId'].values[0]\n",
    "    total_weight = sum(range(len(user_interests), 0, -1))  # Los intereses primeros tienen más peso\n",
    "    matches = {}\n",
    "    for i, row in df.iterrows():\n",
    "        if row['username'] != user:\n",
    "            common_interests = set(row['interestId']).intersection(user_interests)\n",
    "            # Calcular el porcentaje de coincidencia teniendo en cuenta la importancia relativa\n",
    "            match_percentage = sum(len(user_interests) - user_interests.index(i) for i in common_interests) / total_weight * 100\n",
    "            matches[row['username']] = (match_percentage, common_interests)\n",
    "    best_matches = sorted(matches.items(), key=lambda x: x[1], reverse=True)[:3]\n",
    "    \n",
    "    # Crear un DataFrame para la salida en formato de tabla\n",
    "    output = pd.DataFrame(best_matches, columns=['Usuario', 'Match'])\n",
    "    output[['Porcentaje de coincidencia', 'Intereses comunes']] = pd.DataFrame(output['Match'].tolist(), index=output.index)\n",
    "    output.drop(columns=['Match'], inplace=True)\n",
    "    \n",
    "    # Limitar el número de intereses comunes mostrados\n",
    "    output['Intereses comunes'] = output['Intereses comunes'].apply(lambda x: list(x)[:common_limit])\n",
    "    \n",
    "    \n",
    "    return output\n",
    "\n",
    "\n",
    "\n",
    "\n",
    "\n",
    "\n",
    "\n",
    "\n",
    "# Primero, la función obtiene los intereses del usuario especificado a partir del DataFrame df.\n",
    "\n",
    "#Luego, calcula el total_weight, que es la suma de los rangos de los intereses del usuario, dando más peso a los intereses que están en las primeras posiciones.\n",
    "\n",
    "#Después, para cada fila (usuario) en el DataFrame que no sea el usuario especificado, calcula los intereses comunes con el usuario especificado.\n",
    "\n",
    "#calcula el match_percentage, que es la suma de los pesos de los intereses comunes (donde el peso se define como la longitud de la lista de intereses del usuario menos el índice del interés en esa lista) dividida por el total_weight y multiplicada por 100 para obtener un porcentaje.\n",
    "\n",
    "#Almacena el match_percentage y los intereses comunes para cada usuario en un diccionario llamado matches.\n",
    "\n",
    "#Finalmente, ordena el diccionario matches en orden descendente por match_percentage y devuelve las tres mejores coincidencias.\n"
   ]
  },
  {
   "cell_type": "code",
   "execution_count": 5,
   "metadata": {},
   "outputs": [
    {
     "name": "stdout",
     "output_type": "stream",
     "text": [
      "| Usuario   |   Porcentaje de coincidencia | Intereses comunes                                                                    |\n",
      "|:----------|-----------------------------:|:-------------------------------------------------------------------------------------|\n",
      "| cahega    |                          100 | ['65080d9dc628cfdbf076629e', '65080dcfc628cfdbf07662aa', '65080df0c628cfdbf07662bc'] |\n",
      "| inloma    |                          100 | ['65080d9dc628cfdbf076629e', '65080dcfc628cfdbf07662aa', '65080df0c628cfdbf07662bc'] |\n",
      "| elalro    |                          100 | ['65080d9dc628cfdbf076629e', '65080dcfc628cfdbf07662aa', '65080df0c628cfdbf07662bc'] |\n"
     ]
    }
   ],
   "source": [
    "# Prueba con un usuario\n",
    "user = 'perosa'\n",
    "output_df = match_user(user)\n",
    "print(output_df.to_markdown(index=False))"
   ]
  }
 ],
 "metadata": {
  "kernelspec": {
   "display_name": "Python 3",
   "language": "python",
   "name": "python3"
  },
  "language_info": {
   "codemirror_mode": {
    "name": "ipython",
    "version": 3
   },
   "file_extension": ".py",
   "mimetype": "text/x-python",
   "name": "python",
   "nbconvert_exporter": "python",
   "pygments_lexer": "ipython3",
   "version": "3.9.13"
  },
  "orig_nbformat": 4
 },
 "nbformat": 4,
 "nbformat_minor": 2
}
