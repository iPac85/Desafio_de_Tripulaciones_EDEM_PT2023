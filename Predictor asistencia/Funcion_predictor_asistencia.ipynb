{
 "cells": [
  {
   "cell_type": "code",
   "execution_count": 1,
   "metadata": {},
   "outputs": [
    {
     "name": "stderr",
     "output_type": "stream",
     "text": [
      "c:\\Users\\sergi\\anaconda3\\lib\\site-packages\\scipy\\__init__.py:155: UserWarning: A NumPy version >=1.18.5 and <1.25.0 is required for this version of SciPy (detected version 1.25.0\n",
      "  warnings.warn(f\"A NumPy version >={np_minversion} and <{np_maxversion}\"\n"
     ]
    },
    {
     "name": "stdout",
     "output_type": "stream",
     "text": [
      "          4           3          2\n",
      "0.000232 x - 0.01895 x + 0.4273 x + 1.313 x + 1.367\n"
     ]
    }
   ],
   "source": [
    "import numpy as np\n",
    "import pandas as pd\n",
    "import json\n",
    "from datetime import datetime\n",
    "\n",
    "# Leemos dataset\n",
    "# Lee el archivo JSON\n",
    "with open(\"./data2/df_bookings_9.json\", encoding=\"'ISO-8859-1'\") as f:\n",
    "    data = json.load(f)\n",
    "\n",
    "# Normaliza los datos JSON en un DataFrame (para leer la fecha correctamente)\n",
    "df_bookings = pd.json_normalize(data)\n",
    "\n",
    "# Leemos tabla events\n",
    "df_events = pd.read_csv(\"./data2/DT2023.events_2.csv\")\n",
    "df_events.set_index(\"_id\", inplace=True)\n",
    "\n",
    "# Preparamos dataset con los campos necesarios\n",
    "df=df_bookings.loc[:,[\"userId\",\"eventId\", \"createdAt.$date\"]]\n",
    "df.rename(columns={\"createdAt.$date\":\"createdAt\"}, inplace=True)\n",
    "\n",
    "startDate=[]\n",
    "capacity=[]\n",
    "for id in df[\"eventId\"]:\n",
    "    startDate.append(df_events.loc[id, \"startDate\"])\n",
    "# for i in df.index:\n",
    "#     startDate.append(df_events.loc[df.loc[i, \"eventId\"], \"startDate\"])\n",
    "\n",
    "df[\"startDate\"]=startDate\n",
    "\n",
    "################################################## FORMULA ####################################################\n",
    "# def predictor_asistencia(df):\n",
    "\n",
    "# Convertimos campo fecha a asistencias por dia\n",
    "df[\"createdAt\"]=pd.to_datetime(df[\"createdAt\"])\n",
    "df[\"startDate\"]=pd.to_datetime(df[\"startDate\"])\n",
    "df[\"dias\"]=(df[\"startDate\"]-df[\"createdAt\"]).dt.days\n",
    "\n",
    "# Creamos una columna por dia y incluimos el count\n",
    "df=df.pivot_table(index=\"eventId\", values=\"userId\", columns=[\"dias\"], aggfunc=\"count\", fill_value=0)\n",
    "\n",
    "# Conseguimos el acumulado\n",
    "for i in range(2, len(df.columns)+1):\n",
    "    df[i] = df[i-1] + df[i]\n",
    "\n",
    "# Eliminamos valores anómalos usando el criterio de box plot y rangos intercuartílicos\n",
    "Q1 = df.quantile(0.25)\n",
    "Q3 = df.quantile(0.75)\n",
    "IQR = Q3 - Q1\n",
    "\n",
    "lower_bound = Q1 - 1.5 * IQR\n",
    "upper_bound = Q3 + 1.5 * IQR\n",
    "\n",
    "# Filtra el DataFrame para eliminar filas con valores fuera de los límites\n",
    "filtered_df = df[(df >= lower_bound) & (df <= upper_bound)].dropna()\n",
    "\n",
    "# Normalizamos\n",
    "from sklearn.preprocessing import MinMaxScaler\n",
    "max_norm= max(filtered_df)  # Guardamos el máximo para luego desnormalizar\n",
    "scaler=MinMaxScaler()\n",
    "scaler.fit(filtered_df.T)\n",
    "df_norm = pd.DataFrame(scaler.fit_transform(df.T).T, columns=df.columns)\n",
    "\n",
    "# Calculamos la media de cada columna\n",
    "column_means = filtered_df.mean()\n",
    "X = column_means.to_numpy()\n",
    "\n",
    "# Aplicamos Regresión Polinómica a los valores de ese array\n",
    "grado_polinomio = 4\n",
    "coefficients = np.polyfit(np.arange(len(X)), X, grado_polinomio)\n",
    "polynomial_function = np.poly1d(coefficients)\n",
    "\n",
    "# La función polinómica ahora está definida y puede ser evaluada en cualquier punto\n",
    "print(polynomial_function)"
   ]
  }
 ],
 "metadata": {
  "kernelspec": {
   "display_name": "base",
   "language": "python",
   "name": "python3"
  },
  "language_info": {
   "codemirror_mode": {
    "name": "ipython",
    "version": 3
   },
   "file_extension": ".py",
   "mimetype": "text/x-python",
   "name": "python",
   "nbconvert_exporter": "python",
   "pygments_lexer": "ipython3",
   "version": "3.9.13"
  },
  "orig_nbformat": 4
 },
 "nbformat": 4,
 "nbformat_minor": 2
}
